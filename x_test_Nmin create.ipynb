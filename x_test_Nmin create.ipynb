{
 "cells": [
  {
   "cell_type": "code",
   "execution_count": null,
   "metadata": {},
   "outputs": [],
   "source": [
    "import numpy as np"
   ]
  },
  {
   "cell_type": "code",
   "execution_count": null,
   "metadata": {},
   "outputs": [],
   "source": [
    "###################################################\n",
    "## 1 min , 3, 5, 10, 20 min\n",
    "###################################################\n",
    "\n",
    "path0 = 'New Experimental Data - June 2021/ncm_combination_10min/'\n",
    "dirs = os.listdir(path0)\n",
    "direc = dirs\n",
    "\n",
    "obj_list = glob.glob(path0 + '/*.csv')\n",
    "temp = [] \n",
    "Sum = []\n",
    "ccr = []\n",
    "x_test1 = []\n",
    "filen = []\n",
    "measure_t = 60 * 30\n",
    "\n",
    "BG = np.sum(np.loadtxt(path0 + 'BG_sum.csv'))/(60*900)\n",
    "\n",
    "\n",
    "for filename in obj_list:\n",
    "    temp.append(np.loadtxt(filename, delimiter = ','))\n",
    "    x_test1.append(np.loadtxt(filename, delimiter = ','))\n",
    "    a = np.stack(temp, axis = 0)\n",
    "    Sum.append(np.sum(a))\n",
    "    cps = np.sum(a)/measure_t\n",
    "    ccr.append(cps/(BG + cps))\n",
    "    temp = [] \n",
    "    \n",
    "print(np.shape(x_test1))\n",
    "## correction of order from file naming order to CCR aranging order\n",
    "x_test1 = np.stack(x_test1, axis = 0)\n",
    "print(x_test1.shape)\n",
    "\n",
    "direct = ['Co','Cs','Na','Ba','Eu','BG','CoCs', 'CoNa', 'CoBa', 'CoEu', 'CsNa', 'CsBa',\n",
    "    'CsEu', 'BaNa','NaEu','BaEu','CoCsNa', 'CoCsBa', 'CoCsEu', 'CoBaNa', 'CoNaEu', 'CoBaEu', \n",
    "           'CsBaNa', 'CsNaEu','CsBaEu', 'BaNaEu', 'CoCsNaBa', 'CoCsNaEu', 'CoCsBaEu', 'CoBaNaEu', 'CsBaNaEu'] \n",
    "\n",
    "\n",
    "for j in range(len(direct)):\n",
    "    x_test1[j] = np.loadtxt(path0 + direct[j] + '_sum.csv', delimiter = ',')\n",
    "    if direct[j] == BG:\n",
    "        x_test1[j] = x_test1[j]/(60*900)\n",
    "    \n",
    "print(x_test1[11, 20:])\n",
    "print(x_test1[12, 20:])\n",
    "print(x_test1[13, 20:])\n",
    "\n",
    "# x_test1 = np.delete(x_test1, len(x_test1)-1,axis=0)\n",
    "\n",
    "x_test1 = x_test1[:, Startsize:Datasize]\n",
    "\n",
    "## convert data to cps\n",
    "# x_test = x_test / measure_t\n",
    "\n",
    "\n",
    "print(x_test1.shape)\n",
    "print(x_test1[11, 20:50])\n",
    "\n",
    "np.savetxt('x_test_10min.txt', x_test1)\n",
    "\n"
   ]
  }
 ],
 "metadata": {
  "kernelspec": {
   "display_name": "Python 3",
   "language": "python",
   "name": "python3"
  },
  "language_info": {
   "codemirror_mode": {
    "name": "ipython",
    "version": 3
   },
   "file_extension": ".py",
   "mimetype": "text/x-python",
   "name": "python",
   "nbconvert_exporter": "python",
   "pygments_lexer": "ipython3",
   "version": "3.6.10"
  }
 },
 "nbformat": 4,
 "nbformat_minor": 4
}
