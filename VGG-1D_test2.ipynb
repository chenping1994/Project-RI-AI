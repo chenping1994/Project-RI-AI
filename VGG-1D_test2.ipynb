{
 "cells": [
  {
   "cell_type": "code",
   "execution_count": 1,
   "metadata": {
    "executionInfo": {
     "elapsed": 2757,
     "status": "ok",
     "timestamp": 1608792477877,
     "user": {
      "displayName": "Yoshiki Kimura",
      "photoUrl": "https://lh3.googleusercontent.com/a-/AOh14Gj1AKtUwWH2D3vcUqbZMnOB6a0o7Pi0h_PkF6V3=s64",
      "userId": "16110065249782243549"
     },
     "user_tz": -540
    },
    "id": "E7T_no7Z2i-Z"
   },
   "outputs": [
    {
     "name": "stderr",
     "output_type": "stream",
     "text": [
      "Using TensorFlow backend.\n"
     ]
    }
   ],
   "source": [
    "%matplotlib inline\n",
    "import matplotlib.pyplot as plt\n",
    "import numpy as np\n",
    "#import optuna\n",
    "import keras.backend as Ks\n",
    "import keras\n",
    "from keras.models import load_model \n",
    "from keras.models import Sequential, Model\n",
    "from keras import layers \n",
    "from keras import Input\n",
    "from keras import regularizers\n",
    "from keras.utils import np_utils\n",
    "import pickle\n",
    "import random, secrets\n",
    "import scipy.signal\n",
    "import tensorflow as tf\n",
    "\n",
    "from secrets import randbelow as rb\n",
    "from scipy.optimize import curve_fit as cf\n",
    "from numpy import load, asarray, savez_compressed, save, load, savetxt"
   ]
  },
  {
   "cell_type": "code",
   "execution_count": 2,
   "metadata": {
    "colab": {
     "base_uri": "https://localhost:8080/"
    },
    "executionInfo": {
     "elapsed": 55013,
     "status": "ok",
     "timestamp": 1605251014603,
     "user": {
      "displayName": "Yoshiki Kimura",
      "photoUrl": "https://lh3.googleusercontent.com/a-/AOh14Gj1AKtUwWH2D3vcUqbZMnOB6a0o7Pi0h_PkF6V3=s64",
      "userId": "16110065249782243549"
     },
     "user_tz": -540
    },
    "id": "U17QI7J52ngj",
    "outputId": "f69d2de6-f039-43e2-dbc9-f00eb3b8a5fa"
   },
   "outputs": [
    {
     "name": "stdout",
     "output_type": "stream",
     "text": [
      "(1228800, 413) (1228800, 10)\n"
     ]
    }
   ],
   "source": [
    "# 学習データ読み込み\n",
    "data_x = np.load('./spectrum_Bq_randcount_10RIUDC_2048_100-10M_roll.npy')\n",
    "\n",
    "\n",
    "for i in range(data_x.shape[0] * 2) : #学習データをランダムに並替え\n",
    "    index_a = random.randint(0, data_x.shape[0]-1)\n",
    "    index_b = random.randint(0, data_x.shape[0]-1)\n",
    "    data_x[index_a], data_x[index_b] = np.array(data_x[index_b]), np.array(data_x[index_a])\n",
    "\n",
    "data_y = data_x[:, :10] # 学習データ（スペクトル）\n",
    "data_x = data_x[:, 10:] # 学習データ（目的変数）\n",
    "print(data_x.shape, data_y.shape) \n",
    "#data_nx = data_x / np.sum(data_x, axis=1, keepdims=True)\n",
    "#print(np.sum(data_y), np.sum(data_nx))"
   ]
  },
  {
   "cell_type": "code",
   "execution_count": 2,
   "metadata": {},
   "outputs": [
    {
     "name": "stdout",
     "output_type": "stream",
     "text": [
      "ERROR! Session/line number was not unique in database. History logging moved to new session 62\n",
      "Number of nuclides =  11\n"
     ]
    }
   ],
   "source": [
    "\n",
    "# The sequence is as below !!!\n",
    "dir = \"Nuclides/\"\n",
    "Co = np.loadtxt(dir+\"Co-del.txt\")\n",
    "Na = np.loadtxt(dir+\"Na-del.txt\")\n",
    "Cs = np.loadtxt(dir+\"Cs-del.txt\")\n",
    "Ba = np.loadtxt(dir+\"Ba-del.txt\")\n",
    "K  = np.loadtxt(dir+\"K.txt\")\n",
    "Eu = np.loadtxt(dir+\"Eu.txt\")\n",
    "U233=np.loadtxt(dir+\"U233.txt\")\n",
    "U235=np.loadtxt(dir+\"U235.txt\")\n",
    "U238=np.loadtxt(dir+\"U238.txt\")\n",
    "Th = np.loadtxt(dir+\"Th.txt\")\n",
    "Ra = np.loadtxt(dir+\"Ra.txt\")\n",
    "\n",
    "nuclides_n = len([Co, Na, Cs, Ba, K, Eu, U233, U235, U238, Th, Ra])\n",
    "print(\"Number of nuclides = \",nuclides_n)\n",
    "\n",
    "ExpCo60  = np.loadtxt(dir+\"/ExpCo-del.txt\")\n",
    "ExpNa22  = np.loadtxt(dir+\"/ExpNa-del.txt\")\n",
    "ExpCs137 = np.loadtxt(dir+\"/ExpCs-del.txt\")\n",
    "ExpBa133 = np.loadtxt(dir+\"/ExpBa-del.txt\")\n",
    "\n",
    "rng = secrets.SystemRandom()\n",
    "rng.randrange(-8,7)\n",
    "\n",
    "Co = Co.T\n",
    "Na = Na.T\n",
    "Cs = Cs.T\n",
    "Ba = Ba.T\n",
    "K  = K.T\n",
    "Eu = Eu.T\n",
    "U233=U233.T\n",
    "U235=U235.T\n",
    "U238=U238.T\n",
    "Th = Th.T\n",
    "Ra = Ra.T\n",
    "\n",
    "# print(Co[1,:])\n",
    "\n",
    "TotBq = []\n",
    "Co_Bq = []\n",
    "Na_Bq = []\n",
    "Cs_Bq = []\n",
    "Ba_Bq = []\n",
    "K_Bq  = []\n",
    "Eu_Bq = []\n",
    "U233_Bq=[]\n",
    "U235_Bq=[]\n",
    "U238_Bq=[]\n",
    "Th_Bq = []\n",
    "Ra_Bq = []\n",
    "\n",
    "Sumpeak = []\n",
    "randEshift=[]\n",
    "\n",
    "CoCCR = []\n",
    "NaCCR = []\n",
    "CsCCR = []\n",
    "BaCCR = []\n",
    "KCCR  = []\n",
    "EuCCR = []\n",
    "U233CCR=[]\n",
    "U235CCR=[]\n",
    "U238CCR=[]\n",
    "ThCCR = []\n",
    "RaCCR = []\n",
    "\n",
    "\n",
    "pattern = 2048\n",
    "bit1 = 100\n",
    "bit2 = 1000\n",
    "bit3 = 10000\n",
    "bit4 = 100000\n",
    "bit5 = 1000000\n",
    "bit6 = 10000000\n",
    "\n",
    "bits = [bit1, bit2, bit3, bit4, bit5, bit6]\n",
    "\n",
    "Eshiftpatterns = [i for i in range(100)]\n",
    "\n",
    "Datasize = 500    # only first 500 channels of data is taken\n",
    "Measurement_time = 60.0  # in seconds\n",
    "\n"
   ]
  },
  {
   "cell_type": "code",
   "execution_count": 3,
   "metadata": {},
   "outputs": [],
   "source": [
    "for Eshift in Eshiftpatterns:  \n",
    "   \n",
    "    s1 = secrets.choice(range(-8,7))     # rolling about \n",
    "    randEshift.append(s1)\n",
    "    \n",
    "    tempCo = np.roll(Co, -s1, axis=1)\n",
    "    tempNa = np.roll(Na, -s1, axis=1)\n",
    "    tempCs = np.roll(Cs, -s1, axis=1)\n",
    "    tempBa = np.roll(Ba, -s1, axis=1)\n",
    "    tempK  = np.roll(K, -s1, axis=1)\n",
    "    tempEu = np.roll(Eu, -s1, axis=1)\n",
    "    tempU233=np.roll(U233, -s1, axis=1)\n",
    "    tempU235=np.roll(U235, -s1, axis=1)\n",
    "    tempU238=np.roll(U238, -s1, axis=1)\n",
    "    tempTh = np.roll(Th, -s1, axis=1)\n",
    "    tempRa = np.roll(Ra, -s1, axis=1)\n",
    "    \n",
    "    for bit in bits:\n",
    "        for i in range(pattern):\n",
    "            x1 = rb(bit)\n",
    "            x2 = rb(bit)\n",
    "            x3 = rb(bit)\n",
    "            x4 = rb(bit)\n",
    "            x5 = rb(bit)\n",
    "            x6 = rb(bit)\n",
    "            x7 = rb(bit)\n",
    "            x8 = rb(bit)\n",
    "            x11 = rb(bit)\n",
    "            x9 = rb(bit)\n",
    "            x10 = rb(bit)\n",
    "            xsum = x1+x2+x3+x4+x5+x6+x7+x8+x9+x10+x11\n",
    "\n",
    "            Co_Bq.append(x1)\n",
    "            Na_Bq.append(x2)\n",
    "            Cs_Bq.append(x3)\n",
    "            Ba_Bq.append(x4)\n",
    "            K_Bq.append(x5)\n",
    "            Eu_Bq.append(x6)\n",
    "            U233_Bq.append(x7)\n",
    "            U235_Bq.append(x8)\n",
    "            U238_Bq.append(x9)\n",
    "            Th_Bq.append(x10)\n",
    "            Ra_Bq.append(x11)\n",
    "            TotBq.append(xsum)\n",
    "            \n",
    "            co60 = np.round(Measurement_time *x1*tempCo[1,0:Datasize])  #小数点カウントが発生するため、round処理を行う必要があります。以下同様\n",
    "            na22 = np.round(Measurement_time *x2*tempNa[1,0:Datasize])\n",
    "            cs137 = np.round(Measurement_time*x3*tempCs[1,0:Datasize])\n",
    "            ba133 = np.round(Measurement_time*x4*tempBa[1,0:Datasize])\n",
    "            k40 = np.round(Measurement_time  *x5*tempK[1,0:Datasize])  #小数点カウントが発生するため、round処理を行う必要があります。以下同様\n",
    "            eu152 = np.round(Measurement_time*x6*tempEu[1,0:Datasize])\n",
    "            u233 = np.round(Measurement_time *x7*tempU233[1,0:Datasize])\n",
    "            u235 = np.round(Measurement_time *x8*tempU235[1,0:Datasize])\n",
    "            u238 = np.round(Measurement_time *x9*tempU238[1,0:Datasize])\n",
    "            th232 = np.round(Measurement_time*x10*tempTh[1,0:Datasize])\n",
    "            ra226 = np.round(Measurement_time*x11*tempRa[1,0:Datasize])\n",
    "\n",
    "            ww = co60 + na22 + cs137 + ba133 + k40 + eu152 + u233 + u235 + u238 + th232 + ra226\n",
    "        \n",
    "            Sumpeak.append(ww)\n",
    "            \n",
    "            CoCCR.append(np.sum(co60,axis=0)/np.sum(ww,axis=0))\n",
    "            NaCCR.append(np.sum(na22,axis=0)/np.sum(ww,axis=0))\n",
    "            CsCCR.append(np.sum(cs137,axis=0)/np.sum(ww,axis=0))\n",
    "            BaCCR.append(np.sum(ba133,axis=0)/np.sum(ww,axis=0))\n",
    "            KCCR.append(np.sum(k40,axis=0)/np.sum(ww,axis=0))\n",
    "            EuCCR.append(np.sum(eu152,axis=0)/np.sum(ww,axis=0))\n",
    "            U233CCR.append(np.sum(u233,axis=0)/np.sum(ww,axis=0))\n",
    "            U235CCR.append(np.sum(u235,axis=0)/np.sum(ww,axis=0))\n",
    "            U238CCR.append(np.sum(u238,axis=0)/np.sum(ww,axis=0))\n",
    "            ThCCR.append(np.sum(th232,axis=0)/np.sum(ww,axis=0))\n",
    "            RaCCR.append(np.sum(ra226,axis=0)/np.sum(ww,axis=0))\n",
    "            \n",
    "            \n",
    "\n",
    "Sum = np.vstack((Co[0,0:Datasize], Sumpeak))\n"
   ]
  },
  {
   "cell_type": "code",
   "execution_count": 4,
   "metadata": {},
   "outputs": [
    {
     "name": "stdout",
     "output_type": "stream",
     "text": [
      "(1228800, 500)\n",
      "(1228800, 11)\n"
     ]
    }
   ],
   "source": [
    "X_train = np.array(Sumpeak)\n",
    "CCR = np.vstack([CoCCR, NaCCR, CsCCR, BaCCR, KCCR, EuCCR, U233CCR, U235CCR, U238CCR, ThCCR, RaCCR])\n",
    "\n",
    "Y_train = CCR.T\n",
    "\n",
    "save('X_train.npy', X_train)\n",
    "save('Y_train.npy', Y_train)\n",
    "\n",
    "print(X_train.shape)\n",
    "print(np.shape(Y_train))"
   ]
  },
  {
   "cell_type": "code",
   "execution_count": null,
   "metadata": {},
   "outputs": [],
   "source": [
    "load('X_train.npy')"
   ]
  },
  {
   "cell_type": "code",
   "execution_count": null,
   "metadata": {
    "collapsed": true
   },
   "outputs": [],
   "source": []
  },
  {
   "cell_type": "code",
   "execution_count": 5,
   "metadata": {
    "colab": {
     "base_uri": "https://localhost:8080/"
    },
    "executionInfo": {
     "elapsed": 57805,
     "status": "ok",
     "timestamp": 1605251020353,
     "user": {
      "displayName": "Yoshiki Kimura",
      "photoUrl": "https://lh3.googleusercontent.com/a-/AOh14Gj1AKtUwWH2D3vcUqbZMnOB6a0o7Pi0h_PkF6V3=s64",
      "userId": "16110065249782243549"
     },
     "user_tz": -540
    },
    "id": "WKnS6UXj2p39",
    "outputId": "fe689ea6-eb7e-45ec-81fc-7fbec36ed572"
   },
   "outputs": [
    {
     "name": "stdout",
     "output_type": "stream",
     "text": [
      "Model: \"sequential_1\"\n",
      "_________________________________________________________________\n",
      "Layer (type)                 Output Shape              Param #   \n",
      "=================================================================\n",
      "conv1d_1 (Conv1D)            (None, 500, 64)           256       \n",
      "_________________________________________________________________\n",
      "conv1d_2 (Conv1D)            (None, 500, 64)           12352     \n",
      "_________________________________________________________________\n",
      "max_pooling1d_1 (MaxPooling1 (None, 250, 64)           0         \n",
      "_________________________________________________________________\n",
      "conv1d_3 (Conv1D)            (None, 250, 128)          24704     \n",
      "_________________________________________________________________\n",
      "conv1d_4 (Conv1D)            (None, 250, 128)          49280     \n",
      "_________________________________________________________________\n",
      "max_pooling1d_2 (MaxPooling1 (None, 125, 128)          0         \n",
      "_________________________________________________________________\n",
      "conv1d_5 (Conv1D)            (None, 125, 256)          98560     \n",
      "_________________________________________________________________\n",
      "conv1d_6 (Conv1D)            (None, 125, 256)          196864    \n",
      "_________________________________________________________________\n",
      "conv1d_7 (Conv1D)            (None, 125, 256)          196864    \n",
      "_________________________________________________________________\n",
      "conv1d_8 (Conv1D)            (None, 125, 256)          196864    \n",
      "_________________________________________________________________\n",
      "max_pooling1d_3 (MaxPooling1 (None, 62, 256)           0         \n",
      "_________________________________________________________________\n",
      "conv1d_9 (Conv1D)            (None, 62, 512)           393728    \n",
      "_________________________________________________________________\n",
      "conv1d_10 (Conv1D)           (None, 62, 512)           786944    \n",
      "_________________________________________________________________\n",
      "conv1d_11 (Conv1D)           (None, 62, 512)           786944    \n",
      "_________________________________________________________________\n",
      "conv1d_12 (Conv1D)           (None, 62, 512)           786944    \n",
      "_________________________________________________________________\n",
      "max_pooling1d_4 (MaxPooling1 (None, 31, 512)           0         \n",
      "_________________________________________________________________\n",
      "conv1d_13 (Conv1D)           (None, 31, 512)           786944    \n",
      "_________________________________________________________________\n",
      "conv1d_14 (Conv1D)           (None, 31, 512)           786944    \n",
      "_________________________________________________________________\n",
      "conv1d_15 (Conv1D)           (None, 31, 512)           786944    \n",
      "_________________________________________________________________\n",
      "conv1d_16 (Conv1D)           (None, 31, 512)           786944    \n",
      "_________________________________________________________________\n",
      "max_pooling1d_5 (MaxPooling1 (None, 15, 512)           0         \n",
      "_________________________________________________________________\n",
      "flatten_1 (Flatten)          (None, 7680)              0         \n",
      "_________________________________________________________________\n",
      "dense_1 (Dense)              (None, 1024)              7865344   \n",
      "_________________________________________________________________\n",
      "dense_2 (Dense)              (None, 1024)              1049600   \n",
      "_________________________________________________________________\n",
      "dropout_1 (Dropout)          (None, 1024)              0         \n",
      "_________________________________________________________________\n",
      "dense_3 (Dense)              (None, 11)                11275     \n",
      "=================================================================\n",
      "Total params: 15,604,299\n",
      "Trainable params: 15,604,299\n",
      "Non-trainable params: 0\n",
      "_________________________________________________________________\n"
     ]
    }
   ],
   "source": [
    "# VGG19 model定義\n",
    "Ks.clear_session()\n",
    "\n",
    "VGG19model = keras.models.Sequential()\n",
    "\n",
    "VGG19model.add(layers.Conv1D(64, 3, activation = 'relu', padding='same',\n",
    "                       input_shape = (Datasize,1)))\n",
    "VGG19model.add(layers.Conv1D(64, 3, padding='same', activation = 'relu'))\n",
    "VGG19model.add(layers.MaxPooling1D(2))\n",
    "\n",
    "VGG19model.add(layers.Conv1D(128, 3, padding='same', activation = 'relu'))\n",
    "VGG19model.add(layers.Conv1D(128, 3, padding='same', activation = 'relu'))\n",
    "VGG19model.add(layers.MaxPooling1D(2))\n",
    "\n",
    "VGG19model.add(layers.Conv1D(256, 3, padding='same', activation = 'relu'))\n",
    "VGG19model.add(layers.Conv1D(256, 3, padding='same', activation = 'relu'))\n",
    "VGG19model.add(layers.Conv1D(256, 3, padding='same', activation = 'relu'))\n",
    "VGG19model.add(layers.Conv1D(256, 3, padding='same', activation = 'relu'))\n",
    "VGG19model.add(layers.MaxPooling1D(2))\n",
    "VGG19model.add(layers.Conv1D(512, 3, padding='same', activation = 'relu'))\n",
    "VGG19model.add(layers.Conv1D(512, 3, padding='same', activation = 'relu'))\n",
    "VGG19model.add(layers.Conv1D(512, 3, padding='same', activation = 'relu'))\n",
    "VGG19model.add(layers.Conv1D(512, 3, padding='same', activation = 'relu'))\n",
    "VGG19model.add(layers.MaxPooling1D(2))\n",
    "VGG19model.add(layers.Conv1D(512, 3, padding='same', activation = 'relu'))\n",
    "VGG19model.add(layers.Conv1D(512, 3, padding='same', activation = 'relu'))\n",
    "VGG19model.add(layers.Conv1D(512, 3, padding='same', activation = 'relu'))\n",
    "VGG19model.add(layers.Conv1D(512, 3, padding='same', activation = 'relu'))\n",
    "VGG19model.add(layers.MaxPooling1D(2))\n",
    "VGG19model.add(layers.Flatten())\n",
    "#model.add(layers.Dense(64, activation='relu'))\n",
    "VGG19model.add(layers.Dense(1024, activation='relu'))\n",
    "VGG19model.add(layers.Dense(1024, activation='relu'))\n",
    "VGG19model.add(layers.Dropout(0.5))\n",
    "VGG19model.add(layers.Dense(nuclides_n, activation='softmax'))\n",
    "\n",
    "#opt= keras.optimizers.Adam(lr=0.0021533133440412807,\n",
    "#                           decay=8.915893662822524e-09,\n",
    "#                           amsgrad=True)\n",
    "opt = keras.optimizers.Adam()\n",
    "\n",
    "VGG19model.compile(loss='categorical_crossentropy', optimizer=opt)\n",
    "\n",
    "VGG19model.summary()"
   ]
  },
  {
   "cell_type": "code",
   "execution_count": null,
   "metadata": {
    "colab": {
     "base_uri": "https://localhost:8080/"
    },
    "executionInfo": {
     "elapsed": 1657,
     "status": "ok",
     "timestamp": 1605153902166,
     "user": {
      "displayName": "Yoshiki Kimura",
      "photoUrl": "https://lh3.googleusercontent.com/a-/AOh14Gj1AKtUwWH2D3vcUqbZMnOB6a0o7Pi0h_PkF6V3=s64",
      "userId": "16110065249782243549"
     },
     "user_tz": -540
    },
    "id": "DnSaNB06AJBN",
    "outputId": "ad26b4af-1da9-416b-f064-55a21ead5507"
   },
   "outputs": [
    {
     "name": "stdout",
     "output_type": "stream",
     "text": [
      "Model: \"sequential\"\n",
      "_________________________________________________________________\n",
      "Layer (type)                 Output Shape              Param #   \n",
      "=================================================================\n",
      "conv1d (Conv1D)              (None, 413, 64)           256       \n",
      "_________________________________________________________________\n",
      "conv1d_1 (Conv1D)            (None, 413, 64)           12352     \n",
      "_________________________________________________________________\n",
      "max_pooling1d (MaxPooling1D) (None, 206, 64)           0         \n",
      "_________________________________________________________________\n",
      "conv1d_2 (Conv1D)            (None, 206, 128)          24704     \n",
      "_________________________________________________________________\n",
      "conv1d_3 (Conv1D)            (None, 206, 128)          49280     \n",
      "_________________________________________________________________\n",
      "max_pooling1d_1 (MaxPooling1 (None, 103, 128)          0         \n",
      "_________________________________________________________________\n",
      "conv1d_4 (Conv1D)            (None, 103, 256)          98560     \n",
      "_________________________________________________________________\n",
      "conv1d_5 (Conv1D)            (None, 103, 256)          196864    \n",
      "_________________________________________________________________\n",
      "conv1d_6 (Conv1D)            (None, 103, 256)          196864    \n",
      "_________________________________________________________________\n",
      "max_pooling1d_2 (MaxPooling1 (None, 51, 256)           0         \n",
      "_________________________________________________________________\n",
      "conv1d_7 (Conv1D)            (None, 51, 512)           393728    \n",
      "_________________________________________________________________\n",
      "conv1d_8 (Conv1D)            (None, 51, 512)           786944    \n",
      "_________________________________________________________________\n",
      "conv1d_9 (Conv1D)            (None, 51, 512)           786944    \n",
      "_________________________________________________________________\n",
      "max_pooling1d_3 (MaxPooling1 (None, 25, 512)           0         \n",
      "_________________________________________________________________\n",
      "conv1d_10 (Conv1D)           (None, 25, 512)           786944    \n",
      "_________________________________________________________________\n",
      "conv1d_11 (Conv1D)           (None, 25, 512)           786944    \n",
      "_________________________________________________________________\n",
      "conv1d_12 (Conv1D)           (None, 25, 512)           786944    \n",
      "_________________________________________________________________\n",
      "max_pooling1d_4 (MaxPooling1 (None, 12, 512)           0         \n",
      "_________________________________________________________________\n",
      "flatten (Flatten)            (None, 6144)              0         \n",
      "_________________________________________________________________\n",
      "dense (Dense)                (None, 1024)              6292480   \n",
      "_________________________________________________________________\n",
      "dense_1 (Dense)              (None, 1024)              1049600   \n",
      "_________________________________________________________________\n",
      "dropout (Dropout)            (None, 1024)              0         \n",
      "_________________________________________________________________\n",
      "dense_2 (Dense)              (None, 10)                10250     \n",
      "=================================================================\n",
      "Total params: 12,259,658\n",
      "Trainable params: 12,259,658\n",
      "Non-trainable params: 0\n",
      "_________________________________________________________________\n"
     ]
    }
   ],
   "source": [
    "# VGG16 model定義\n",
    "Ks.clear_session()\n",
    "\n",
    "VGG16model = keras.models.Sequential()\n",
    "\n",
    "VGG16model.add(layers.Conv1D(64, 3, activation = 'relu', padding='same',\n",
    "                       input_shape = (Datasize,1)))\n",
    "VGG16model.add(layers.Conv1D(64, 3, padding='same', activation = 'relu'))\n",
    "VGG16model.add(layers.MaxPooling1D(2))\n",
    "VGG16model.add(layers.Conv1D(128, 3, padding='same', activation = 'relu'))\n",
    "VGG16model.add(layers.Conv1D(128, 3, padding='same', activation = 'relu'))\n",
    "VGG16model.add(layers.MaxPooling1D(2))\n",
    "VGG16model.add(layers.Conv1D(256, 3, padding='same', activation = 'relu'))\n",
    "VGG16model.add(layers.Conv1D(256, 3, padding='same', activation = 'relu'))\n",
    "VGG16model.add(layers.Conv1D(256, 3, padding='same', activation = 'relu'))\n",
    "VGG16model.add(layers.MaxPooling1D(2))\n",
    "VGG16model.add(layers.Conv1D(512, 3, padding='same', activation = 'relu'))\n",
    "VGG16model.add(layers.Conv1D(512, 3, padding='same', activation = 'relu'))\n",
    "VGG16model.add(layers.Conv1D(512, 3, padding='same', activation = 'relu'))\n",
    "VGG16model.add(layers.MaxPooling1D(2))\n",
    "VGG16model.add(layers.Conv1D(512, 3, padding='same', activation = 'relu'))\n",
    "VGG16model.add(layers.Conv1D(512, 3, padding='same', activation = 'relu'))\n",
    "VGG16model.add(layers.Conv1D(512, 3, padding='same', activation = 'relu'))\n",
    "VGG16model.add(layers.MaxPooling1D(2))\n",
    "VGG16model.add(layers.Flatten())\n",
    "#model.add(layers.Dense(64, activation='relu'))\n",
    "VGG16model.add(layers.Dense(1024, activation='relu'))\n",
    "VGG16model.add(layers.Dense(1024, activation='relu'))\n",
    "VGG16model.add(layers.Dropout(0.5))\n",
    "VGG16model.add(layers.Dense(10, activation='softmax'))\n",
    "\n",
    "#opt= keras.optimizers.Adam(lr=0.0021533133440412807,\n",
    "#                           decay=8.915893662822524e-09,\n",
    "#                           amsgrad=True)\n",
    "opt = keras.optimizers.Adam()\n",
    "\n",
    "VGG16model.compile(loss='categorical_crossentropy', optimizer=opt)\n",
    "\n",
    "VGG16model.summary()"
   ]
  },
  {
   "cell_type": "code",
   "execution_count": 4,
   "metadata": {
    "colab": {
     "base_uri": "https://localhost:8080/"
    },
    "executionInfo": {
     "elapsed": 971,
     "status": "ok",
     "timestamp": 1605251025898,
     "user": {
      "displayName": "Yoshiki Kimura",
      "photoUrl": "https://lh3.googleusercontent.com/a-/AOh14Gj1AKtUwWH2D3vcUqbZMnOB6a0o7Pi0h_PkF6V3=s64",
      "userId": "16110065249782243549"
     },
     "user_tz": -540
    },
    "id": "FiA8o4vp28mI",
    "outputId": "1a116da9-fb06-4a5d-d936-84567b4a53b7"
   },
   "outputs": [
    {
     "name": "stdout",
     "output_type": "stream",
     "text": [
      "(1228800, 10)\n",
      "(1228800, 413)\n",
      "(1228800, 413, 1)\n"
     ]
    }
   ],
   "source": [
    "print(data_y.shape)\n",
    "print(data_x.shape)\n",
    "\n",
    "data_x = data_x.reshape(data_x.shape[0], data_x.shape[1], 1) # 学習データをConv1D Layer用に変形\n",
    "#data_nx = data_nx.reshape(data_nx.shape[0], data_nx.shape[1], 1)\n",
    "print(data_x.shape) #, data_nx.shape)"
   ]
  },
  {
   "cell_type": "code",
   "execution_count": 6,
   "metadata": {},
   "outputs": [
    {
     "name": "stdout",
     "output_type": "stream",
     "text": [
      "(1228800, 500)\n",
      "(1228800, 11)\n",
      "(1228800, 500, 1)\n"
     ]
    }
   ],
   "source": [
    "print(X_train.shape)\n",
    "print(Y_train.shape)\n",
    "\n",
    "data_x = X_train.reshape(X_train.shape[0], X_train.shape[1], 1) # 学習データをConv1D Layer用に変形\n",
    "print(data_x.shape)\n",
    "\n",
    "data_y = Y_train"
   ]
  },
  {
   "cell_type": "code",
   "execution_count": 7,
   "metadata": {
    "colab": {
     "base_uri": "https://localhost:8080/",
     "height": 1000
    },
    "executionInfo": {
     "elapsed": 1538642,
     "status": "ok",
     "timestamp": 1604643277849,
     "user": {
      "displayName": "Yoshiki Kimura",
      "photoUrl": "https://lh3.googleusercontent.com/a-/AOh14Gj1AKtUwWH2D3vcUqbZMnOB6a0o7Pi0h_PkF6V3=s64",
      "userId": "16110065249782243549"
     },
     "user_tz": -540
    },
    "id": "39moS6fA3AVM",
    "outputId": "8f548f1e-81d8-4511-9215-2c763502f7d4"
   },
   "outputs": [
    {
     "name": "stdout",
     "output_type": "stream",
     "text": [
      "Train on 1105920 samples, validate on 122880 samples\n",
      "Epoch 1/5\n",
      "1105920/1105920 [==============================] - 824s 745us/step - loss: 8.9944 - val_loss: 1.7831\n",
      "Epoch 2/5\n",
      "1105920/1105920 [==============================] - 817s 739us/step - loss: 1.7881 - val_loss: 1.7789\n",
      "Epoch 3/5\n",
      "1105920/1105920 [==============================] - 818s 740us/step - loss: 1.7839 - val_loss: 1.7769\n",
      "Epoch 4/5\n",
      "1105920/1105920 [==============================] - 818s 739us/step - loss: 1.7824 - val_loss: 1.7764\n",
      "Epoch 5/5\n",
      "1105920/1105920 [==============================] - 818s 740us/step - loss: 1.7813 - val_loss: 1.7755\n"
     ]
    },
    {
     "data": {
      "image/png": "[encoded data removed]",
      "text/plain": [
       "<Figure size 432x288 with 1 Axes>"
      ]
     },
     "metadata": {
      "needs_background": "light"
     },
     "output_type": "display_data"
    }
   ],
   "source": [
    "#VGG19 学習\n",
    "from keras.callbacks import EarlyStopping\n",
    "\n",
    "VGGhistory = VGG19model.fit(data_x, data_y, \n",
    "                    epochs=5,\n",
    "                    batch_size=1024,\n",
    "                    validation_split=0.1)\n",
    "#                    callbacks=EarlyStopping(monitor='val_loss',patience=50, verbose=1, min_delta=0,mode=\"auto\"))\n",
    "\n",
    "VGGloss = VGGhistory.history['loss']\n",
    "VGGval_loss = VGGhistory.history['val_loss']\n",
    "\n",
    "#epochs= range(len(acc))\n",
    "epochs= range(len(VGGloss))\n",
    "#plt.plot(epochs, acc, 'bo', label='training acc')\n",
    "#plt.plot(epochs, val_acc, 'b', label='validation acc')\n",
    "#plt.legend()\n",
    "plt.figure()\n",
    "plt.plot(epochs, VGGloss, 'bo', label='training loss')\n",
    "plt.plot(epochs, VGGval_loss, 'b', label='validation loss')\n",
    "plt.legend()\n",
    "\n",
    "plt.show()"
   ]
  },
  {
   "cell_type": "code",
   "execution_count": 8,
   "metadata": {},
   "outputs": [],
   "source": [
    "VGG19model.save(\"VGG19-1D_5epoch_11nuc.h5\")"
   ]
  },
  {
   "cell_type": "code",
   "execution_count": 6,
   "metadata": {
    "executionInfo": {
     "elapsed": 12833,
     "status": "ok",
     "timestamp": 1608792503985,
     "user": {
      "displayName": "Yoshiki Kimura",
      "photoUrl": "https://lh3.googleusercontent.com/a-/AOh14Gj1AKtUwWH2D3vcUqbZMnOB6a0o7Pi0h_PkF6V3=s64",
      "userId": "16110065249782243549"
     },
     "user_tz": -540
    },
    "id": "ikgVIwDVfoPf"
   },
   "outputs": [],
   "source": [
    "#VGG19model.save(\"/content/drive/My Drive/ML/1D-CNN/tmp/VGG19-1D_2kX100-10M_Roll_PCData_100epoch.h5\")\n",
    "VGG19model = keras.models.load_model(\"./VGG19-1D_2kX100-10M_Roll_100epoch.h5\")"
   ]
  },
  {
   "cell_type": "code",
   "execution_count": null,
   "metadata": {
    "colab": {
     "base_uri": "https://localhost:8080/"
    },
    "executionInfo": {
     "elapsed": 1453,
     "status": "ok",
     "timestamp": 1608272199901,
     "user": {
      "displayName": "Yoshiki Kimura",
      "photoUrl": "https://lh3.googleusercontent.com/a-/AOh14Gj1AKtUwWH2D3vcUqbZMnOB6a0o7Pi0h_PkF6V3=s64",
      "userId": "16110065249782243549"
     },
     "user_tz": -540
    },
    "id": "56zCYg2L3GDg",
    "outputId": "cae91d2f-4a8d-4f6d-c3de-88bfeccae646",
    "scrolled": true
   },
   "outputs": [
    {
     "name": "stdout",
     "output_type": "stream",
     "text": [
      "(16, 413) (16, 8)\n",
      "[[0.7956236  0.         0.         0.         0.         0.\n",
      "  0.         0.20437641]\n",
      " [0.         0.78972659 0.         0.         0.         0.\n",
      "  0.         0.21027341]\n",
      " [0.         0.         0.81744614 0.         0.         0.\n",
      "  0.         0.18255386]\n",
      " [0.         0.         0.         0.52280702 0.         0.\n",
      "  0.         0.47719298]\n",
      " [0.         0.         0.         0.         0.74527031 0.\n",
      "  0.         0.25472969]\n",
      " [0.         0.         0.         0.         0.         0.\n",
      "  0.         1.        ]\n",
      " [0.45012049 0.43425447 0.         0.         0.         0.\n",
      "  0.         0.11562504]\n",
      " [0.41543368 0.         0.47785148 0.         0.         0.\n",
      "  0.         0.10671484]\n",
      " [0.65006581 0.         0.         0.18294805 0.         0.\n",
      "  0.         0.16698614]\n",
      " [0.49790263 0.         0.         0.         0.37419826 0.\n",
      "  0.         0.12789911]\n",
      " [0.         0.40674645 0.48495282 0.         0.         0.\n",
      "  0.         0.10830073]\n",
      " [0.         0.64185946 0.         0.18723839 0.         0.\n",
      "  0.         0.17090215]\n",
      " [0.         0.48893327 0.         0.         0.38088286 0.\n",
      "  0.         0.13018387]\n",
      " [0.         0.         0.68120292 0.16666935 0.         0.\n",
      "  0.         0.15212773]\n",
      " [0.         0.         0.53284947 0.         0.34815342 0.\n",
      "  0.         0.11899711]\n",
      " [0.         0.         0.         0.226649   0.566476   0.\n",
      "  0.         0.206875  ]]\n"
     ]
    }
   ],
   "source": [
    "test = np.load(\"./RI-mesured_3.51keV.npy\") #RI用テストデータ\n",
    "\n",
    " \n",
    "test_x = test[:, 8:] # テストデータ\n",
    "test_y = test[:, :8] # テストデータ目的変数\n",
    "test_y[15] = [0., 0., 0., 0.226649, 0.566476, 0., 0., 0.206875]\n",
    "print(test_x.shape, test_y.shape)\n",
    "\n",
    "#test_nx = test_x / np.sum(test_x, axis=1, keepdims=True)\n",
    "print(test_y)"
   ]
  },
  {
   "cell_type": "code",
   "execution_count": 11,
   "metadata": {
    "colab": {
     "base_uri": "https://localhost:8080/"
    },
    "executionInfo": {
     "elapsed": 2107,
     "status": "ok",
     "timestamp": 1608792659060,
     "user": {
      "displayName": "Yoshiki Kimura",
      "photoUrl": "https://lh3.googleusercontent.com/a-/AOh14Gj1AKtUwWH2D3vcUqbZMnOB6a0o7Pi0h_PkF6V3=s64",
      "userId": "16110065249782243549"
     },
     "user_tz": -540
    },
    "id": "7hbQKyEbgYJv",
    "outputId": "2a12a4d4-0036-455d-a90b-c578eb0dab91"
   },
   "outputs": [
    {
     "name": "stdout",
     "output_type": "stream",
     "text": [
      "(20, 413)\n"
     ]
    }
   ],
   "source": [
    "Utest = np.loadtxt(\"./U-mesured_3.51keV.csv\", delimiter=',', skiprows=1) # U用テストデータ\n",
    "print(Utest.shape)"
   ]
  },
  {
   "cell_type": "code",
   "execution_count": null,
   "metadata": {
    "colab": {
     "base_uri": "https://localhost:8080/",
     "height": 1000
    },
    "executionInfo": {
     "elapsed": 3293,
     "status": "ok",
     "timestamp": 1604639415290,
     "user": {
      "displayName": "Yoshiki Kimura",
      "photoUrl": "https://lh3.googleusercontent.com/a-/AOh14Gj1AKtUwWH2D3vcUqbZMnOB6a0o7Pi0h_PkF6V3=s64",
      "userId": "16110065249782243549"
     },
     "user_tz": -540
    },
    "id": "dPXAuVwk8BPJ",
    "outputId": "32dab873-6ffa-45f4-cef4-e1c13602c1a9"
   },
   "outputs": [
    {
     "name": "stdout",
     "output_type": "stream",
     "text": [
      "(16, 413, 1)\n"
     ]
    },
    {
     "data": {
      "image/png": "[encoded data removed]",
      "text/plain": [
       "<Figure size 1728x1440 with 16 Axes>"
      ]
     },
     "metadata": {
      "needs_background": "light",
      "tags": []
     },
     "output_type": "display_data"
    }
   ],
   "source": [
    "test_x = test_x.reshape(test_x.shape[0], test_x.shape[1], 1)\n",
    "print(test_x.shape)\n",
    "\n",
    "result_y = VGG19model.predict(test_x)\n",
    "BG = result_y[:, 5] + result_y[:, 6] + result_y[:, 9]\n",
    "BG = BG.reshape(BG.shape[0], 1)\n",
    "result_y = np.hstack((result_y[:, :5], result_y[:, 7:9], BG))\n",
    "\n",
    "\n",
    "names = np.array([\"Co57\", \"Co60\", \"Ba133\", \"Cs137\", \"Eu152\", \"U235\", \"U238\", \"BG\"])\n",
    "\n",
    "left = np.arange(result_y.shape[1])\n",
    "width = 0.4\n",
    "\n",
    "plt.figure(figsize=(24, 20))\n",
    "for i in range(16):\n",
    "    plt.subplot(4, 4, i+1)\n",
    "    plt.bar(left, result_y[i], width=width, align='center')\n",
    "    plt.bar(left+width, test_y[i], width=width, align='center')\n",
    "    plt.xticks(left + width/2, names)\n",
    "    #plt.ylim(0, 0.5)\n",
    "plt.show()"
   ]
  },
  {
   "cell_type": "code",
   "execution_count": 13,
   "metadata": {
    "colab": {
     "base_uri": "https://localhost:8080/",
     "height": 1000
    },
    "executionInfo": {
     "elapsed": 3409,
     "status": "ok",
     "timestamp": 1608792805630,
     "user": {
      "displayName": "Yoshiki Kimura",
      "photoUrl": "https://lh3.googleusercontent.com/a-/AOh14Gj1AKtUwWH2D3vcUqbZMnOB6a0o7Pi0h_PkF6V3=s64",
      "userId": "16110065249782243549"
     },
     "user_tz": -540
    },
    "id": "6_czWrSchFuc",
    "outputId": "1cc8db6a-008d-4bc6-f4c4-6784af80fb02",
    "scrolled": true
   },
   "outputs": [
    {
     "name": "stdout",
     "output_type": "stream",
     "text": [
      "(20, 413, 1)\n",
      "[[0.10132912 0.05003193 0.01606422 0.01084351 0.2719764  0.00327973\n",
      "  0.27179062 0.18714604 0.07084837 0.01669007]\n",
      " [0.09996117 0.02732188 0.01475745 0.02431816 0.32552156 0.00203317\n",
      "  0.24645141 0.17652477 0.05926369 0.02384682]\n",
      " [0.09232266 0.03381047 0.01380578 0.00172667 0.2865393  0.04332508\n",
      "  0.29535478 0.16966812 0.05047383 0.01297328]\n",
      " [0.10989687 0.03380335 0.02595475 0.03712627 0.2132394  0.01657209\n",
      "  0.28544572 0.19244911 0.06381425 0.02169821]\n",
      " [0.14086486 0.10014626 0.0027311  0.02750296 0.17606594 0.01340101\n",
      "  0.23865925 0.216864   0.06142239 0.02234224]\n",
      " [0.10592092 0.07181361 0.00665724 0.08584048 0.21264488 0.08960786\n",
      "  0.20263459 0.15078568 0.05390098 0.02019373]\n",
      " [0.1216211  0.06430724 0.0087512  0.03736378 0.22504967 0.03164472\n",
      "  0.24775603 0.19730276 0.05904478 0.0071587 ]\n",
      " [0.12494504 0.09824163 0.00688946 0.02704834 0.21717015 0.06709505\n",
      "  0.23765641 0.16922225 0.04851435 0.00321733]\n",
      " [0.11154459 0.06140976 0.00634874 0.00580108 0.19927889 0.19121784\n",
      "  0.18673925 0.17200331 0.05318464 0.01247186]\n",
      " [0.11872039 0.07207952 0.00524222 0.03112034 0.20374352 0.04227114\n",
      "  0.27512935 0.18998934 0.05259166 0.00911247]\n",
      " [0.12804207 0.12079372 0.00545957 0.01398992 0.17161095 0.10437751\n",
      "  0.22815067 0.17105755 0.05343253 0.00308546]\n",
      " [0.13067359 0.01822487 0.01613281 0.03849638 0.19067356 0.06143546\n",
      "  0.28362548 0.19446473 0.06182871 0.00444437]\n",
      " [0.11910471 0.04201595 0.02142751 0.02919162 0.18880528 0.08045377\n",
      "  0.28015438 0.16848037 0.05283215 0.01753424]\n",
      " [0.1255251  0.03026321 0.03477054 0.04186018 0.2291991  0.04053867\n",
      "  0.25144386 0.17358187 0.05357929 0.01923816]\n",
      " [0.11862352 0.0610474  0.02888277 0.03973237 0.24988668 0.00991962\n",
      "  0.26152977 0.15942375 0.05038151 0.02057262]\n",
      " [0.1191153  0.06847425 0.02488438 0.02862227 0.20688882 0.07437795\n",
      "  0.22951224 0.17930906 0.05156907 0.01724668]\n",
      " [0.11979713 0.11008699 0.0076331  0.01352672 0.21061711 0.09234879\n",
      "  0.19902226 0.19059229 0.05500235 0.0013733 ]\n",
      " [0.09824288 0.04473449 0.02222387 0.01696676 0.23322436 0.02593965\n",
      "  0.29647923 0.17008553 0.06739178 0.02471154]\n",
      " [0.12257288 0.08695113 0.03196703 0.01486301 0.20238201 0.00356956\n",
      "  0.28626677 0.1824562  0.05056008 0.01841143]\n",
      " [0.10110579 0.05297398 0.02567476 0.03905584 0.21349868 0.06629495\n",
      "  0.27700123 0.1569447  0.04983591 0.01761415]]\n"
     ]
    },
    {
     "data": {
      "image/png": "[encoded data removed]",
      "text/plain": [
       "<Figure size 1728x1728 with 20 Axes>"
      ]
     },
     "metadata": {
      "needs_background": "light",
      "tags": []
     },
     "output_type": "display_data"
    }
   ],
   "source": [
    "# 1D-VGG19 2k-Roll 100-10MBq 100epoch\n",
    "Utest = Utest.reshape(Utest.shape[0], Utest.shape[1], 1)\n",
    "print(Utest.shape)\n",
    "\n",
    "Uresult_y = VGG19model.predict(Utest)\n",
    "#BG = result_y[:, 5] + result_y[:, 6] + result_y[:, 9]\n",
    "#BG = BG.reshape(BG.shape[0], 1)\n",
    "#result_y = np.hstack((result_y[:, :5], result_y[:, 7:9], BG))\n",
    "print(Uresult_y)\n",
    "\n",
    "BG = Uresult_y[:, 5] + Uresult_y[:, 6] + Uresult_y[:, 8] + Uresult_y[:, 9]\n",
    "BG = BG.reshape(BG.shape[0], 1)\n",
    "Uresult_y = np.hstack((Uresult_y[:, :5], Uresult_y[:, 7:8], BG))\n",
    "\n",
    "\n",
    "\n",
    "#names = np.array([\"Co57\", \"Co60\", \"Ba133\", \"Cs137\", \"Eu152\", \"U235\", \"U238\", \"BG\"])\n",
    "names = np.array([\"Co57\", \"Co60\", \"Ba133\", \"Cs137\", \"Eu152\", \"U235\", \"BG\"])\n",
    "\n",
    "\n",
    "left = np.arange(Uresult_y.shape[1])\n",
    "width = 0.4\n",
    "\n",
    "plt.figure(figsize=(24, 24))\n",
    "for i in range(20):\n",
    "    plt.subplot(4, 5, i+1)\n",
    "    plt.bar(left, Uresult_y[i], width=width, align='center')\n",
    "    #plt.bar(left+width, test_y[i], width=width, align='center')\n",
    "    plt.xticks(left + width/2, names)\n",
    "    #plt.ylim(0, 0.5)\n",
    "plt.show()"
   ]
  },
  {
   "cell_type": "code",
   "execution_count": null,
   "metadata": {
    "id": "3PTgpZQUjNCJ"
   },
   "outputs": [],
   "source": []
  }
 ],
 "metadata": {
  "accelerator": "GPU",
  "colab": {
   "authorship_tag": "ABX9TyOLv7LCIvB6SgR8smRfcNUW",
   "collapsed_sections": [],
   "machine_shape": "hm",
   "mount_file_id": "1i_g2cXinbACVX7deHEs1Ho1Ziu6_HYaJ",
   "name": "VGG-1D_test2.ipynb",
   "provenance": []
  },
  "kernelspec": {
   "display_name": "Python 3",
   "language": "python",
   "name": "python3"
  },
  "language_info": {
   "codemirror_mode": {
    "name": "ipython",
    "version": 3
   },
   "file_extension": ".py",
   "mimetype": "text/x-python",
   "name": "python",
   "nbconvert_exporter": "python",
   "pygments_lexer": "ipython3",
   "version": "3.6.10"
  }
 },
 "nbformat": 4,
 "nbformat_minor": 1
}
