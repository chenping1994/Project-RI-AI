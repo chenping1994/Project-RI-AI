{
 "cells": [
  {
   "cell_type": "code",
   "execution_count": 6,
   "metadata": {},
   "outputs": [
    {
     "name": "stdout",
     "output_type": "stream",
     "text": [
      "(10, 4)\n"
     ]
    }
   ],
   "source": [
    "%matplotlib inline\n",
    "import matplotlib.pyplot as plt\n",
    "import numpy as np\n",
    "\n",
    "c = np.loadtxt(\"hist err bars.txt\")\n",
    "c = np.stack(c)\n",
    "names = np.array([\"Co60\", \"Cs137\", \"Na22\", \"Ba133\", \"Eu152\", \"BG\"])\n",
    "\n",
    "\n",
    "# left = np.arange(res_y.shape[1])\n",
    "width = 0.4\n",
    "\n",
    "print(c.shape)\n",
    "\n",
    "\n",
    "\n",
    "\n",
    "\n"
   ]
  },
  {
   "cell_type": "code",
   "execution_count": null,
   "metadata": {},
   "outputs": [],
   "source": [
    "plt.figure(figsize=(10, 10))\n",
    "plt.bar(left, res_y[i], width=width, align='center')\n",
    "plt.bar(left+width, y_test[i], width=width, align='center')\n",
    "plt.xticks(left + width/2, names)\n",
    "# plt.savefig(\"ai-results/RI/\" + \"Aug3-5epoch-7bits-exp-{:03}.png\".format(i))\n",
    "\n",
    "plt.show()"
   ]
  }
 ],
 "metadata": {
  "kernelspec": {
   "display_name": "Python 3",
   "language": "python",
   "name": "python3"
  },
  "language_info": {
   "codemirror_mode": {
    "name": "ipython",
    "version": 3
   },
   "file_extension": ".py",
   "mimetype": "text/x-python",
   "name": "python",
   "nbconvert_exporter": "python",
   "pygments_lexer": "ipython3",
   "version": "3.6.10"
  }
 },
 "nbformat": 4,
 "nbformat_minor": 4
}
